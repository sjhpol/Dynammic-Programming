{
 "cells": [
  {
   "cell_type": "code",
   "execution_count": 1,
   "metadata": {},
   "outputs": [],
   "source": [
    "import numpy as np\n",
    "import os"
   ]
  },
  {
   "cell_type": "code",
   "execution_count": 2,
   "metadata": {},
   "outputs": [
    {
     "name": "stdout",
     "output_type": "stream",
     "text": [
      "[[ 1  2  3]\n",
      " [ 4  5  6]\n",
      " [ 7  8  9]\n",
      " [10 11 12]]\n",
      "1.26.4\n"
     ]
    }
   ],
   "source": [
    "a = np.array(([1,2,3],[4,5,6],[7,8,9],[10,11,12]))\n",
    "\n",
    "print(a)\n",
    "\n",
    "\n",
    "print(np.version.version)\n",
    "\n"
   ]
  },
  {
   "cell_type": "code",
   "execution_count": 3,
   "metadata": {},
   "outputs": [
    {
     "name": "stdout",
     "output_type": "stream",
     "text": [
      "[1. 2. 3. 4. 5. 6.]\n"
     ]
    }
   ],
   "source": [
    "def fill_missing_values(x, age_seq2):\n",
    "  \"\"\"\n",
    "  Fills missing values (represented by `mv`) in `x` using linear interpolation\n",
    "  based on `age_seq2`.\n",
    "\n",
    "  Args:\n",
    "      x: (array-like) Data array with missing values.\n",
    "      age_seq2: (array-like) Age sequence corresponding to data points in `x`.\n",
    "\n",
    "  Returns:\n",
    "      array-like: The array `x` with missing values filled using interpolation.\n",
    "  \"\"\"\n",
    "\n",
    "  mv = np.nan  # Missing value representation\n",
    "  rn = len(x)  # Number of rows\n",
    "\n",
    "  for i in range(1, rn):\n",
    "    # Check if current element is missing and previous element is valid\n",
    "    if np.isnan(x[i]) and not np.isnan(x[i - 1]):\n",
    "      j = i + 1\n",
    "      # Find the next valid element after the missing one\n",
    "      while j < rn and np.isnan(x[j]):\n",
    "        j += 1\n",
    "\n",
    "      # If a valid element is found within the data range\n",
    "      if j <= rn:\n",
    "        # Calculate interpolation fraction\n",
    "        frac = (age_seq2[i] - age_seq2[i - 1]) / (age_seq2[j] - age_seq2[i - 1])\n",
    "        # Interpolate the missing value\n",
    "        x[i] = x[i - 1] + frac * (x[j] - x[i - 1])\n",
    "\n",
    "  return x\n",
    "\n",
    "# Example usage\n",
    "x = np.array([1, np.nan, 3, 4, np.nan, 6])\n",
    "age_seq2 = np.arange(1, len(x) + 1)\n",
    "\n",
    "filled_x = fill_missing_values(x.copy(), age_seq2)\n",
    "print(filled_x)  # Output: [ 1.  2.  3.  4.  5.  6. ]"
   ]
  },
  {
   "cell_type": "code",
   "execution_count": 4,
   "metadata": {},
   "outputs": [
    {
     "data": {
      "text/plain": [
       "(4, 3)"
      ]
     },
     "execution_count": 4,
     "metadata": {},
     "output_type": "execute_result"
    }
   ],
   "source": [
    "a.shape"
   ]
  },
  {
   "cell_type": "code",
   "execution_count": 5,
   "metadata": {},
   "outputs": [
    {
     "name": "stdout",
     "output_type": "stream",
     "text": [
      "\n"
     ]
    }
   ],
   "source": [
    "from pathlib import Path\n",
    "\n",
    "print()\n",
    "\n"
   ]
  },
  {
   "cell_type": "code",
   "execution_count": 6,
   "metadata": {},
   "outputs": [
    {
     "name": "stdout",
     "output_type": "stream",
     "text": [
      "[[1 2 3]\n",
      " [4 5 6]\n",
      " [7 8 9]]\n",
      "[4. 5. 6.]\n"
     ]
    }
   ],
   "source": [
    "# Create an array of numbers from 1 to 9\n",
    "arr = np.arange(1, 10)\n",
    "\n",
    "# Reshape the array into a 3x3 array\n",
    "array_3x3 = arr.reshape(3, 3)\n",
    "\n",
    "# Print the array\n",
    "print(array_3x3)\n",
    "\n",
    "print(np.mean(array_3x3, axis=0))\n"
   ]
  },
  {
   "cell_type": "code",
   "execution_count": 7,
   "metadata": {},
   "outputs": [
    {
     "name": "stdout",
     "output_type": "stream",
     "text": [
      "[1 2 3 4]\n",
      "regular mean\n",
      "2.5\n",
      "column mean\n",
      "2.5\n"
     ]
    }
   ],
   "source": [
    "v = np.arange(1,5)\n",
    "print(v)\n",
    "\n",
    "print(\"regular mean\")\n",
    "print(np.mean(v))\n",
    "\n",
    "print(\"column mean\")\n",
    "print(np.mean(v, axis=0))\n"
   ]
  },
  {
   "cell_type": "code",
   "execution_count": 8,
   "metadata": {},
   "outputs": [
    {
     "name": "stdout",
     "output_type": "stream",
     "text": [
      "[[1 2]\n",
      " [3 4]\n",
      " [5 6]]\n",
      "(3, 2)\n",
      "3\n"
     ]
    }
   ],
   "source": [
    "new = np.array(([1,2],[3,4],[5,6]))\n",
    "\n",
    "print(new)\n",
    "print(new.shape)\n",
    "\n",
    "print(new.shape[0])\n"
   ]
  },
  {
   "cell_type": "code",
   "execution_count": 9,
   "metadata": {},
   "outputs": [
    {
     "name": "stdout",
     "output_type": "stream",
     "text": [
      "[[ 7  8]\n",
      " [ 9 10]\n",
      " [11 12]]\n"
     ]
    }
   ],
   "source": [
    "import numpy as np\n",
    "\n",
    "def getmatrix(a, loc):\n",
    "  \"\"\"\n",
    "  Gets a contiguous matrix from an N-dimensional array.\n",
    "\n",
    "  Args:\n",
    "      a (N-dimensional array): The input array.\n",
    "      loc (Mx1 vector): The indices into the array to locate the matrix of interest.\n",
    "                          M can be N, N-1, or N-2.\n",
    "\n",
    "  Returns:\n",
    "      y (KxL matrix or 1xL matrix or scalar): The extracted matrix or scalar value.\n",
    "          K is the size of the second fastest moving dimension, and L is the size\n",
    "          of the fastest moving dimension.\n",
    "\n",
    "  Raises:\n",
    "      ValueError: If the dimensions of `loc` are not compatible with `a`.\n",
    "  \"\"\"\n",
    "    \n",
    "  # Handle edge cases: M = N (extract entire array)\n",
    "  if loc.shape[0] == a.ndim:\n",
    "    return a\n",
    "\n",
    "  # Handle M = N-1 (extract a subarray along the last dimension)\n",
    "  if loc.shape[0] == a.ndim - 1:\n",
    "    sliced_array = a[tuple(loc)]\n",
    "    if sliced_array.ndim == 1:\n",
    "      return sliced_array.reshape(1, -1)  # Ensure row vector for consistency\n",
    "    else:\n",
    "      return sliced_array\n",
    "\n",
    "  # Handle M = N-2 (extract a submatrix along the last two dimensions)\n",
    "  if loc.shape[0] == a.ndim - 2:\n",
    "    return a[tuple(loc)]\n",
    "\n",
    "  # Raise an error for unsupported cases (M < N-2 or M > N)\n",
    "  raise ValueError(\"Unsupported value for M. loc must have length N, N-1, or N-2.\")\n",
    "\n",
    "# Example usage:\n",
    "\n",
    "_=\"\"\"\n",
    "arr = np.arange(24).reshape(2, 3, 4)\n",
    "loc1 = np.array([0, 1, 2])  # Extract entire array (M = N)\n",
    "loc2 = np.array([0, 1])    # Extract subarray along last dimension (M = N-1)\n",
    "loc3 = np.array([0])       # Extract submatrix along last two dimensions (M = N-2)\n",
    "\n",
    "result1 = getmatrix(arr, loc1)\n",
    "result2 = getmatrix(arr, loc2)\n",
    "result3 = getmatrix(arr, loc3)\n",
    "\n",
    "print(result1)\n",
    "print(result2)\n",
    "print(result3)\"\"\"\n",
    "\n",
    "a = np.arange(1, 19).reshape(3, 3, 2)\n",
    "\n",
    "print(getmatrix(a, np.array([1])))\n"
   ]
  },
  {
   "cell_type": "code",
   "execution_count": null,
   "metadata": {},
   "outputs": [],
   "source": []
  },
  {
   "cell_type": "code",
   "execution_count": null,
   "metadata": {},
   "outputs": [],
   "source": []
  },
  {
   "cell_type": "code",
   "execution_count": null,
   "metadata": {},
   "outputs": [],
   "source": []
  },
  {
   "cell_type": "code",
   "execution_count": null,
   "metadata": {},
   "outputs": [],
   "source": []
  },
  {
   "cell_type": "code",
   "execution_count": null,
   "metadata": {},
   "outputs": [],
   "source": []
  },
  {
   "cell_type": "code",
   "execution_count": null,
   "metadata": {},
   "outputs": [],
   "source": []
  },
  {
   "cell_type": "code",
   "execution_count": null,
   "metadata": {},
   "outputs": [],
   "source": []
  },
  {
   "cell_type": "code",
   "execution_count": null,
   "metadata": {},
   "outputs": [],
   "source": []
  },
  {
   "cell_type": "code",
   "execution_count": null,
   "metadata": {},
   "outputs": [],
   "source": []
  },
  {
   "cell_type": "code",
   "execution_count": null,
   "metadata": {},
   "outputs": [],
   "source": []
  },
  {
   "cell_type": "code",
   "execution_count": null,
   "metadata": {},
   "outputs": [],
   "source": []
  },
  {
   "cell_type": "code",
   "execution_count": null,
   "metadata": {},
   "outputs": [],
   "source": []
  },
  {
   "cell_type": "code",
   "execution_count": null,
   "metadata": {},
   "outputs": [],
   "source": []
  },
  {
   "cell_type": "code",
   "execution_count": null,
   "metadata": {},
   "outputs": [],
   "source": []
  },
  {
   "cell_type": "code",
   "execution_count": null,
   "metadata": {},
   "outputs": [],
   "source": []
  },
  {
   "cell_type": "code",
   "execution_count": null,
   "metadata": {},
   "outputs": [],
   "source": []
  },
  {
   "cell_type": "code",
   "execution_count": null,
   "metadata": {},
   "outputs": [],
   "source": []
  },
  {
   "cell_type": "code",
   "execution_count": null,
   "metadata": {},
   "outputs": [],
   "source": []
  },
  {
   "cell_type": "code",
   "execution_count": null,
   "metadata": {},
   "outputs": [],
   "source": []
  },
  {
   "cell_type": "code",
   "execution_count": null,
   "metadata": {},
   "outputs": [],
   "source": []
  },
  {
   "cell_type": "code",
   "execution_count": null,
   "metadata": {},
   "outputs": [],
   "source": []
  },
  {
   "cell_type": "code",
   "execution_count": null,
   "metadata": {},
   "outputs": [],
   "source": []
  }
 ],
 "metadata": {
  "kernelspec": {
   "display_name": "Python 3",
   "language": "python",
   "name": "python3"
  },
  "language_info": {
   "codemirror_mode": {
    "name": "ipython",
    "version": 3
   },
   "file_extension": ".py",
   "mimetype": "text/x-python",
   "name": "python",
   "nbconvert_exporter": "python",
   "pygments_lexer": "ipython3",
   "version": "3.12.2"
  }
 },
 "nbformat": 4,
 "nbformat_minor": 2
}
